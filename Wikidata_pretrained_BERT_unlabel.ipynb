{
 "cells": [
  {
   "cell_type": "markdown",
   "metadata": {},
   "source": [
    "# Import PyTorch and BERT"
   ]
  },
  {
   "cell_type": "code",
   "execution_count": 1,
   "metadata": {},
   "outputs": [
    {
     "name": "stdout",
     "output_type": "stream",
     "text": [
      "PyTorch version :  1.6.0\n"
     ]
    }
   ],
   "source": [
    "import torch\n",
    "import numpy as np\n",
    "from transformers import BertTokenizer, BertModel\n",
    "from IPython.display import clear_output\n",
    "\n",
    "PRETRAINED_MODEL_NAME = \"bert-base-uncased\"  \n",
    "\n",
    "# import the tokenizer which is used on this pretrained model\n",
    "tokenizer = BertTokenizer.from_pretrained(PRETRAINED_MODEL_NAME)\n",
    "\n",
    "clear_output()\n",
    "print(\"PyTorch version : \", torch.__version__)"
   ]
  },
  {
   "cell_type": "markdown",
   "metadata": {},
   "source": [
    "# Import Data"
   ]
  },
  {
   "cell_type": "code",
   "execution_count": 2,
   "metadata": {},
   "outputs": [],
   "source": [
    "import pandas as pd"
   ]
  },
  {
   "cell_type": "code",
   "execution_count": 3,
   "metadata": {},
   "outputs": [],
   "source": [
    "df = pd.read_csv('./data/data_place_of_birth_unlabel.csv')"
   ]
  },
  {
   "cell_type": "code",
   "execution_count": 4,
   "metadata": {},
   "outputs": [],
   "source": [
    "drop_row = []\n",
    "for i in range(len(df)):\n",
    "    sentence = df.iloc[i]['sentence']\n",
    "    if type(sentence) == float:\n",
    "        drop_row.append(i)\n",
    "\n",
    "df.drop(drop_row, inplace=True)"
   ]
  },
  {
   "cell_type": "code",
   "execution_count": 5,
   "metadata": {},
   "outputs": [
    {
     "name": "stdout",
     "output_type": "stream",
     "text": [
      "134236\n"
     ]
    }
   ],
   "source": [
    "print(len(df))"
   ]
  },
  {
   "cell_type": "markdown",
   "metadata": {},
   "source": [
    "# Text Cleaning"
   ]
  },
  {
   "cell_type": "code",
   "execution_count": 6,
   "metadata": {},
   "outputs": [
    {
     "name": "stdout",
     "output_type": "stream",
     "text": [
      "For this data\n",
      "Number of sentences :  134236\n",
      "Longest sentence's length : 1279\n",
      "Average length of the sentences : 117.97902202091838\n"
     ]
    }
   ],
   "source": [
    "print('For this data')\n",
    "print(\"Number of sentences : \", len(df))\n",
    "print(\"Longest sentence\\'s length : \" + str(df.sentence.map(len).max()))\n",
    "print(\"Average length of the sentences : \" + str(df.sentence.map(len).mean()))"
   ]
  },
  {
   "cell_type": "markdown",
   "metadata": {},
   "source": [
    "### Limit the tweet max length"
   ]
  },
  {
   "cell_type": "code",
   "execution_count": 7,
   "metadata": {},
   "outputs": [],
   "source": [
    "def max_text_length(text, length):\n",
    "    text = text[:length]\n",
    "    return text"
   ]
  },
  {
   "cell_type": "code",
   "execution_count": 8,
   "metadata": {},
   "outputs": [
    {
     "data": {
      "text/html": [
       "<div>\n",
       "<style scoped>\n",
       "    .dataframe tbody tr th:only-of-type {\n",
       "        vertical-align: middle;\n",
       "    }\n",
       "\n",
       "    .dataframe tbody tr th {\n",
       "        vertical-align: top;\n",
       "    }\n",
       "\n",
       "    .dataframe thead th {\n",
       "        text-align: right;\n",
       "    }\n",
       "</style>\n",
       "<table border=\"1\" class=\"dataframe\">\n",
       "  <thead>\n",
       "    <tr style=\"text-align: right;\">\n",
       "      <th></th>\n",
       "      <th>sentence</th>\n",
       "      <th>wikidata</th>\n",
       "      <th>label</th>\n",
       "      <th>raw_sentence</th>\n",
       "    </tr>\n",
       "  </thead>\n",
       "  <tbody>\n",
       "    <tr>\n",
       "      <th>0</th>\n",
       "      <td>ludmila manicler (born 6 july 1987) is an arge...</td>\n",
       "      <td>place of birth San Pedro</td>\n",
       "      <td>NaN</td>\n",
       "      <td>Ludmila Manicler (born 6 July 1987) is an Arge...</td>\n",
       "    </tr>\n",
       "    <tr>\n",
       "      <th>1</th>\n",
       "      <td>she is a former member of the argentina women'...</td>\n",
       "      <td>place of birth San Pedro</td>\n",
       "      <td>NaN</td>\n",
       "      <td>She is a former member of the Argentina women'...</td>\n",
       "    </tr>\n",
       "    <tr>\n",
       "      <th>2</th>\n",
       "      <td>li ge (born 12 april 1969) is a chinese former...</td>\n",
       "      <td>place of birth Zigong</td>\n",
       "      <td>NaN</td>\n",
       "      <td>Li Ge (born 12 April 1969) is a Chinese former...</td>\n",
       "    </tr>\n",
       "    <tr>\n",
       "      <th>3</th>\n",
       "      <td>kazuhiro \"daimajin\"  sasaki (佐々木 主浩 sasaki kaz...</td>\n",
       "      <td>place of birth Sendai</td>\n",
       "      <td>NaN</td>\n",
       "      <td>Kazuhiro \"Daimajin\"  Sasaki (佐々木 主浩 Sasaki Kaz...</td>\n",
       "    </tr>\n",
       "    <tr>\n",
       "      <th>4</th>\n",
       "      <td>he played his entire npb career with the yokoh...</td>\n",
       "      <td>place of birth Sendai</td>\n",
       "      <td>NaN</td>\n",
       "      <td>He played his entire NPB career with the Yokoh...</td>\n",
       "    </tr>\n",
       "    <tr>\n",
       "      <th>...</th>\n",
       "      <td>...</td>\n",
       "      <td>...</td>\n",
       "      <td>...</td>\n",
       "      <td>...</td>\n",
       "    </tr>\n",
       "    <tr>\n",
       "      <th>134977</th>\n",
       "      <td>he served as chairman of the board, chairman, ...</td>\n",
       "      <td>place of birth Cardiff</td>\n",
       "      <td>NaN</td>\n",
       "      <td>He served as chairman of the board, chairman, ...</td>\n",
       "    </tr>\n",
       "    <tr>\n",
       "      <th>134978</th>\n",
       "      <td>levon isayevich mirzoyan (; ) (november 14, 18...</td>\n",
       "      <td>place of birth Shusha</td>\n",
       "      <td>NaN</td>\n",
       "      <td>Levon Isayevich Mirzoyan (; ) (November 14, 18...</td>\n",
       "    </tr>\n",
       "    <tr>\n",
       "      <th>134979</th>\n",
       "      <td>he was executed during the great purge.</td>\n",
       "      <td>place of birth Shusha</td>\n",
       "      <td>NaN</td>\n",
       "      <td>He was executed during the Great Purge.</td>\n",
       "    </tr>\n",
       "    <tr>\n",
       "      <th>134980</th>\n",
       "      <td>benjamin brian colin parker (born 8 november 1...</td>\n",
       "      <td>place of birth Pontefract</td>\n",
       "      <td>NaN</td>\n",
       "      <td>Benjamin Brian Colin Parker (born 8 November 1...</td>\n",
       "    </tr>\n",
       "    <tr>\n",
       "      <th>134981</th>\n",
       "      <td>he is primarily a left-back, though can also p...</td>\n",
       "      <td>place of birth Pontefract</td>\n",
       "      <td>NaN</td>\n",
       "      <td>He is primarily a left-back, though can also p...</td>\n",
       "    </tr>\n",
       "  </tbody>\n",
       "</table>\n",
       "<p>134236 rows × 4 columns</p>\n",
       "</div>"
      ],
      "text/plain": [
       "                                                 sentence  \\\n",
       "0       ludmila manicler (born 6 july 1987) is an arge...   \n",
       "1       she is a former member of the argentina women'...   \n",
       "2       li ge (born 12 april 1969) is a chinese former...   \n",
       "3       kazuhiro \"daimajin\"  sasaki (佐々木 主浩 sasaki kaz...   \n",
       "4       he played his entire npb career with the yokoh...   \n",
       "...                                                   ...   \n",
       "134977  he served as chairman of the board, chairman, ...   \n",
       "134978  levon isayevich mirzoyan (; ) (november 14, 18...   \n",
       "134979            he was executed during the great purge.   \n",
       "134980  benjamin brian colin parker (born 8 november 1...   \n",
       "134981  he is primarily a left-back, though can also p...   \n",
       "\n",
       "                         wikidata  label  \\\n",
       "0        place of birth San Pedro    NaN   \n",
       "1        place of birth San Pedro    NaN   \n",
       "2           place of birth Zigong    NaN   \n",
       "3           place of birth Sendai    NaN   \n",
       "4           place of birth Sendai    NaN   \n",
       "...                           ...    ...   \n",
       "134977     place of birth Cardiff    NaN   \n",
       "134978      place of birth Shusha    NaN   \n",
       "134979      place of birth Shusha    NaN   \n",
       "134980  place of birth Pontefract    NaN   \n",
       "134981  place of birth Pontefract    NaN   \n",
       "\n",
       "                                             raw_sentence  \n",
       "0       Ludmila Manicler (born 6 July 1987) is an Arge...  \n",
       "1       She is a former member of the Argentina women'...  \n",
       "2       Li Ge (born 12 April 1969) is a Chinese former...  \n",
       "3       Kazuhiro \"Daimajin\"  Sasaki (佐々木 主浩 Sasaki Kaz...  \n",
       "4       He played his entire NPB career with the Yokoh...  \n",
       "...                                                   ...  \n",
       "134977  He served as chairman of the board, chairman, ...  \n",
       "134978  Levon Isayevich Mirzoyan (; ) (November 14, 18...  \n",
       "134979            He was executed during the Great Purge.  \n",
       "134980  Benjamin Brian Colin Parker (born 8 November 1...  \n",
       "134981  He is primarily a left-back, though can also p...  \n",
       "\n",
       "[134236 rows x 4 columns]"
      ]
     },
     "execution_count": 8,
     "metadata": {},
     "output_type": "execute_result"
    }
   ],
   "source": [
    "df['sentence'] = df['sentence'].map(lambda x: max_text_length(x, 1000))\n",
    "\n",
    "df"
   ]
  },
  {
   "cell_type": "code",
   "execution_count": 9,
   "metadata": {},
   "outputs": [],
   "source": [
    "df.to_csv(\"./data/test.csv\", index=False)"
   ]
  },
  {
   "cell_type": "markdown",
   "metadata": {},
   "source": [
    "## Make Dataset"
   ]
  },
  {
   "cell_type": "code",
   "execution_count": 10,
   "metadata": {},
   "outputs": [],
   "source": [
    "from torch.utils.data import Dataset\n",
    "\n",
    "class WikiDataset(Dataset):\n",
    "    # read the tsv we make and initialize some parameters\n",
    "    def __init__(self, mode, tokenizer):\n",
    "        assert mode in [\"train\", \"validation\", \"test\"]\n",
    "        self.mode = mode\n",
    "        self.df = pd.read_csv('./data/' + mode + \".csv\")\n",
    "        self.len = len(self.df)\n",
    "        self.tokenizer = tokenizer  # use BERT tokenizer\n",
    "    \n",
    "    # define a function that reutrn a training or testing data\n",
    "    def __getitem__(self, idx):\n",
    "        if self.mode == \"test\" or self.mode == \"validation\":\n",
    "            sentence, wikidata = self.df.iloc[idx, :2].values\n",
    "            label_tensor = None\n",
    "        else:\n",
    "            sentence, wikidata, label_id = self.df.iloc[idx, :].values\n",
    "            label_tensor = torch.tensor(label_id)\n",
    "            \n",
    "        # BERT tokens\n",
    "        word_pieces = [\"[CLS]\"]\n",
    "        tokens_a = self.tokenizer.tokenize(sentence)\n",
    "        word_pieces += tokens_a + [\"[SEP]\"]\n",
    "        len_a = len(word_pieces)\n",
    "        \n",
    "        tokens_b = self.tokenizer.tokenize(wikidata)\n",
    "        word_pieces += tokens_b + [\"[SEP]\"]\n",
    "        len_b = len(word_pieces) - len_a\n",
    "        \n",
    "        # convert hole token sequence into index sequence\n",
    "        ids = self.tokenizer.convert_tokens_to_ids(word_pieces)\n",
    "        tokens_tensor = torch.tensor(ids)\n",
    "        \n",
    "        # segments_tensor\n",
    "        segments_tensor = torch.tensor([0] * len_a + [1] * len_b, dtype=torch.long)\n",
    "        \n",
    "        return (tokens_tensor, segments_tensor, label_tensor)\n",
    "    \n",
    "    def __len__(self):\n",
    "        return self.len"
   ]
  },
  {
   "cell_type": "markdown",
   "metadata": {},
   "source": [
    "### Make testset"
   ]
  },
  {
   "cell_type": "code",
   "execution_count": 11,
   "metadata": {},
   "outputs": [],
   "source": [
    "trainset = WikiDataset(\"test\", tokenizer=tokenizer)"
   ]
  },
  {
   "cell_type": "markdown",
   "metadata": {},
   "source": [
    "## DataLoader"
   ]
  },
  {
   "cell_type": "code",
   "execution_count": 12,
   "metadata": {},
   "outputs": [],
   "source": [
    "\"\"\"\n",
    "Create a DataLoader that can return a mini-batch each time\n",
    "This DataLoader works with the 'WikiDataset' we define previously\n",
    "we need 4 tensors when training a BERT model：\n",
    "- tokens_tensors  : (batch_size, max_seq_len_in_batch)\n",
    "- segments_tensors: (batch_size, max_seq_len_in_batch)\n",
    "- masks_tensors   : (batch_size, max_seq_len_in_batch)\n",
    "- label_ids       : (batch_size)\n",
    "\"\"\"\n",
    "\n",
    "from torch.utils.data import DataLoader\n",
    "from torch.nn.utils.rnn import pad_sequence\n",
    "\n",
    "# The input samples of this function is a list,\n",
    "# every element in it is a sample return by the 'WikiDataset'\n",
    "\n",
    "# Every sample contains 3 tensors : \n",
    "# - tokens_tensor\n",
    "# - segments_tensor\n",
    "# - label_tensor\n",
    "\n",
    "# It will procecss zero padding on the first two tensors,\n",
    "# then create a masks_tensors\n",
    "def create_mini_batch(samples):\n",
    "    tokens_tensors = [s[0] for s in samples]\n",
    "    segments_tensors = [s[1] for s in samples]\n",
    "    \n",
    "    # with labels or not\n",
    "    if samples[0][2] is not None:\n",
    "        label_ids = torch.stack([s[2] for s in samples])\n",
    "    else:\n",
    "        label_ids = None\n",
    "    \n",
    "    # zero pading\n",
    "    tokens_tensors = pad_sequence(tokens_tensors, batch_first=True)\n",
    "    segments_tensors = pad_sequence(segments_tensors, batch_first=True)\n",
    "    \n",
    "    # attention masks, \n",
    "    # set the locations that are not zero padding tokens_tensors to 1 in order to let bert only focus on those tokens\n",
    "    masks_tensors = torch.zeros(tokens_tensors.shape, dtype=torch.long)\n",
    "    masks_tensors = masks_tensors.masked_fill(tokens_tensors != 0, 1)\n",
    "    \n",
    "    return tokens_tensors, segments_tensors, masks_tensors, label_ids"
   ]
  },
  {
   "cell_type": "code",
   "execution_count": 13,
   "metadata": {},
   "outputs": [],
   "source": [
    "testloader = DataLoader(trainset, batch_size=128, collate_fn=create_mini_batch)"
   ]
  },
  {
   "cell_type": "markdown",
   "metadata": {},
   "source": [
    "## Load model"
   ]
  },
  {
   "cell_type": "code",
   "execution_count": 14,
   "metadata": {},
   "outputs": [],
   "source": [
    "model = torch.load('model_place_of_birth')"
   ]
  },
  {
   "cell_type": "code",
   "execution_count": 15,
   "metadata": {},
   "outputs": [
    {
     "data": {
      "text/plain": [
       "{\n",
       "  \"architectures\": [\n",
       "    \"BertForMaskedLM\"\n",
       "  ],\n",
       "  \"attention_probs_dropout_prob\": 0.1,\n",
       "  \"finetuning_task\": null,\n",
       "  \"hidden_act\": \"gelu\",\n",
       "  \"hidden_dropout_prob\": 0.1,\n",
       "  \"hidden_size\": 768,\n",
       "  \"initializer_range\": 0.02,\n",
       "  \"intermediate_size\": 3072,\n",
       "  \"layer_norm_eps\": 1e-12,\n",
       "  \"max_position_embeddings\": 512,\n",
       "  \"model_type\": \"bert\",\n",
       "  \"num_attention_heads\": 12,\n",
       "  \"num_hidden_layers\": 12,\n",
       "  \"num_labels\": 3,\n",
       "  \"output_attentions\": false,\n",
       "  \"output_hidden_states\": false,\n",
       "  \"output_past\": true,\n",
       "  \"pad_token_id\": 0,\n",
       "  \"pruned_heads\": {},\n",
       "  \"torchscript\": false,\n",
       "  \"type_vocab_size\": 2,\n",
       "  \"use_bfloat16\": false,\n",
       "  \"vocab_size\": 28996\n",
       "}"
      ]
     },
     "execution_count": 15,
     "metadata": {},
     "output_type": "execute_result"
    }
   ],
   "source": [
    "model.config"
   ]
  },
  {
   "cell_type": "markdown",
   "metadata": {},
   "source": [
    "## Prediction"
   ]
  },
  {
   "cell_type": "code",
   "execution_count": 16,
   "metadata": {},
   "outputs": [],
   "source": [
    "def get_predictions(model, dataloader):\n",
    "    predictions = None\n",
    "      \n",
    "    with torch.no_grad():\n",
    "        for data in dataloader:\n",
    "            if next(model.parameters()).is_cuda:\n",
    "                data = [t.to(\"cuda:0\") for t in data if t is not None]\n",
    "            \n",
    "            \n",
    "            # first 3 tensors are tokens, segments and masks \n",
    "            tokens_tensors, segments_tensors, masks_tensors = data[:3]\n",
    "            outputs = model(input_ids=tokens_tensors, \n",
    "                            token_type_ids=segments_tensors, \n",
    "                            attention_mask=masks_tensors)\n",
    "            \n",
    "            logits = outputs[0]\n",
    "            pred = logits.data\n",
    "                \n",
    "            # record current batch\n",
    "            if predictions is None:\n",
    "                predictions = pred\n",
    "            else:\n",
    "                predictions = torch.cat((predictions, pred))\n",
    "    \n",
    "    return predictions"
   ]
  },
  {
   "cell_type": "code",
   "execution_count": 17,
   "metadata": {},
   "outputs": [
    {
     "name": "stdout",
     "output_type": "stream",
     "text": [
      "device: cuda:0\n"
     ]
    }
   ],
   "source": [
    "# run the model on GPU\n",
    "device = torch.device(\"cuda:0\" if torch.cuda.is_available() else \"cpu\")\n",
    "print(\"device:\", device)\n",
    "model = model.to(device)"
   ]
  },
  {
   "cell_type": "code",
   "execution_count": 18,
   "metadata": {},
   "outputs": [
    {
     "name": "stdout",
     "output_type": "stream",
     "text": [
      "Wall time: 15min 40s\n"
     ]
    }
   ],
   "source": [
    "%%time\n",
    "\n",
    "with torch.no_grad():\n",
    "    preds = get_predictions(model, testloader)\n",
    "torch.cuda.empty_cache()"
   ]
  },
  {
   "cell_type": "code",
   "execution_count": 19,
   "metadata": {},
   "outputs": [
    {
     "data": {
      "text/plain": [
       "tensor([[-1.4852, -2.1898,  3.8251],\n",
       "        [-1.7556, -1.7699,  3.5746],\n",
       "        [ 0.2725, -2.1025,  1.7854],\n",
       "        ...,\n",
       "        [-1.9682, -1.9183,  3.9040],\n",
       "        [-0.6922, -2.3805,  2.8402],\n",
       "        [-1.7205, -1.5201,  3.5702]], device='cuda:0')"
      ]
     },
     "execution_count": 19,
     "metadata": {},
     "output_type": "execute_result"
    }
   ],
   "source": [
    "preds"
   ]
  },
  {
   "cell_type": "code",
   "execution_count": 20,
   "metadata": {},
   "outputs": [],
   "source": [
    "m = torch.nn.Softmax(dim=0)\n",
    "consistence_prob = []\n",
    "inconsistence_prob = []\n",
    "irrelenant_prob = []\n",
    "\n",
    "for i in range(len(preds)):\n",
    "    value_0 = m(preds[i])[0].cpu().numpy().tolist()\n",
    "    value_1 = m(preds[i])[1].cpu().numpy().tolist()\n",
    "    value_2 = m(preds[i])[2].cpu().numpy().tolist()\n",
    "    consistence_prob.append(value_0)\n",
    "    inconsistence_prob.append(value_1)\n",
    "    irrelenant_prob.append(value_2)"
   ]
  },
  {
   "cell_type": "code",
   "execution_count": 21,
   "metadata": {},
   "outputs": [],
   "source": [
    "df['0_prob'] = consistence_prob\n",
    "df['1_prob'] = inconsistence_prob\n",
    "df['2_prob'] = irrelenant_prob"
   ]
  },
  {
   "cell_type": "code",
   "execution_count": 22,
   "metadata": {},
   "outputs": [],
   "source": [
    "df_1 = df.sort_values(by=['1_prob'], ascending=False)"
   ]
  },
  {
   "cell_type": "code",
   "execution_count": 23,
   "metadata": {},
   "outputs": [],
   "source": [
    "df_1 = df[df['1_prob']>0.33]"
   ]
  },
  {
   "cell_type": "code",
   "execution_count": 24,
   "metadata": {},
   "outputs": [],
   "source": [
    "df.to_csv('./data/predicted_label_first_two_sentence_all_label.csv', index=False)"
   ]
  },
  {
   "cell_type": "code",
   "execution_count": 25,
   "metadata": {},
   "outputs": [],
   "source": [
    "import os\n",
    "os.remove(\"./data/test.csv\")"
   ]
  },
  {
   "cell_type": "code",
   "execution_count": 26,
   "metadata": {
    "scrolled": false
   },
   "outputs": [
    {
     "name": "stdout",
     "output_type": "stream",
     "text": [
      "diego klattenhoff (born november 30, 1979) is a canadian actor known for his portrayals of mike faber in the showtime series homeland and as fbi agent donald ressler in the blacklist\n",
      "place of birth French River, Pictou County\n",
      "nan\n",
      "\n",
      "alex caruso (born february 28, 1994) is an american professional basketball player for the los angeles lakers of the national basketball association (nba)\n",
      "place of birth College Station\n",
      "nan\n",
      "\n",
      "jean-baptiste-camille corot ( ,  , ; july 16, 1796his birth certificate initially indicated 27 messidor (july 15), but this was corrected to 28 – february 22, 1875) was a french landscape and portrait painter  as well as a printmaker in etching\n",
      "place of birth rue du Bac\n",
      "nan\n",
      "\n",
      "jon watts (born june 28, 1981) is an american film director, producer, and screenwriter\n",
      "place of birth Fountain\n",
      "nan\n",
      "\n",
      "marat zhaksylykuly abiyev (, marat jaqsylyquly ábıev; born september 6, 1989) is a kazakh businessman, author of the kazakhstani dream book\n",
      "place of birth Kandyagash\n",
      "nan\n",
      "\n",
      "lim yong-kyu (born june 18, 1991) is a professional south korean tennis player.\n",
      "place of birth Andong\n",
      "nan\n",
      "\n",
      "ahmed ben bella ( ; 25 december 1916 – 11 april 2012) was an algerian politician, socialist soldier and revolutionary who served as the first president of algeria from 1963 to 1965.\n",
      "place of birth ouedjda\n",
      "nan\n",
      "\n",
      "juan moreno y herrera–jiménez (born 30 july 1948), known as jean reno (), is a spanish–french actor\n",
      "place of birth casablanca\n",
      "nan\n",
      "\n",
      "elisabeth baldauf  (born  3 august 1990) is an austrian female badminton player\n",
      "place of birth Egg\n",
      "nan\n",
      "\n",
      "caolan owen lavery (born 22 october 1992) is a canadian-born northern irish professional footballer who plays as a forward for league two club walsall.\n",
      "place of birth Red Deer\n",
      "nan\n",
      "\n",
      "john mark galecki (born april 30, 1975) is an american actor\n",
      "place of birth Bree\n",
      "nan\n",
      "\n",
      "michael david flynn (born july 31, 1953) is an american former professional basketball player\n",
      "place of birth casablanca\n",
      "nan\n",
      "\n",
      "peter balakian (, born june 13, 1951) is an armenian american poet, writer and academic, the donald m\n",
      "place of birth Teaneck\n",
      "nan\n",
      "\n",
      "jennifer tilly (born jennifer ellen chan; september 16, 1958)some sources indicate 1961, but tilly's listing on the california birth index 1905–1995 (as jennifer e\n",
      "place of birth Harbor City\n",
      "nan\n",
      "\n",
      "rafael edward cruz (; born december 22, 1970) is an american politician and attorney serving as the junior united states senator for texas since 2013\n",
      "place of birth Foothills Medical Centre\n",
      "nan\n",
      "\n",
      "mayumi wakamura (若村麻由美 wakamura mayumi, born on january 3, 1967 in nerima, tokyo) is a japanese actress\n",
      "place of birth Nerima-ku\n",
      "nan\n",
      "\n",
      "xiong xiling, or hsiung hsi-ling (simplified chinese: 熊希龄; hanyu pinyin: xióng xĩ líng; 1870–1937) was a chinese philanthropist and politician, who served as premier of the republic of china from july 1913 to february 1914\n",
      "place of birth fenghuang\n",
      "nan\n",
      "\n",
      "abbé fulbert youlou (29 june,in african powder keg: revolt and dissent in six emergent nations, author ronald matthews lists youlou's date of birth as 9 june 1917\n",
      "place of birth Pool Department\n",
      "nan\n",
      "\n",
      "john david douglas (born june 12, 1956) is a retired american professional basketball player who played in the national basketball association (nba)\n",
      "place of birth Town Creek\n",
      "nan\n",
      "\n",
      "anthony mark mowbray (born 22 november 1963) is an english former professional footballer who is the head coach of  club blackburn rovers\n",
      "place of birth Saltburn-by-the-Sea\n",
      "nan\n",
      "\n",
      "giuseppe materazzi (born 5 january 1946 in arborea, province of oristano) is an italian football manager and former player, who played as a midfielder, currently in charge as technical director of bisceglie.\n",
      "place of birth Arborea\n",
      "nan\n",
      "\n",
      "welliton de moraes coimbra, known as tozin or tozim (born 10 november 1984), is a brazilian professional footballer who plays for interporto\n",
      "place of birth Gurupi\n",
      "nan\n",
      "\n",
      "walid bidani (born 11 june 1994 in maghnia, algeria) is an algerian weightlifter\n",
      "place of birth ouedjda\n",
      "nan\n",
      "\n",
      "michele polverino (born 26 september 1984) is a naturalized liechtenstein football midfielder, who plays for fc balzers in liechtenstein.\n",
      "place of birth Grabs\n",
      "nan\n",
      "\n",
      "patrick john miguel van aanholt (born 29 august 1990) is a dutch professional footballer who plays as a left back for  club crystal palace.\n",
      "place of birth 's-Hertogenbosch\n",
      "nan\n",
      "\n",
      "matteo elias kenzo guendouzi olié (; born 14 april 1999) is a french professional footballer who plays as a midfielder for  club arsenal and the french under-21 team.\n",
      "place of birth Poissy\n",
      "nan\n",
      "\n",
      "rené llense (14 july 1913 – 12 march 2014) was a french football goalkeeper, who played for fc sète and as saint-étienne during his club career.rené llense, doyen des internationaux, s'est éteint  he was born in collioure, pyrénées-orientales\n",
      "place of birth Collioure\n",
      "nan\n",
      "\n",
      "tomohito ito (伊藤 智仁, born october 30, 1970) is a japanese former professional baseball player from kyoto, japan\n",
      "place of birth Nakagyō-ku\n",
      "nan\n",
      "\n",
      "chiu ching-chun (; born 8 december 1949) is a taiwanese politician\n",
      "place of birth Emei\n",
      "nan\n",
      "\n",
      ", born  is a japanese comedian, impressionist, and television host\n",
      "place of birth Kita-ku\n",
      "nan\n",
      "\n",
      "anthony lejohn brown (born october 10, 1992) is an american professional basketball player for the montakit fuenlabrada of the liga acb\n",
      "place of birth Bellflower\n",
      "nan\n",
      "\n",
      " (born january 24, 1951) is a japanese vocalist, composer, lyricist, and keyboardist who made her debut in 1972.\n",
      "place of birth Nakano-ku\n",
      "nan\n",
      "\n",
      "gurmeet ram rahim singh insan (born 15 august 1967) is a convicted rapist and  murderer\n",
      "place of birth Shri gurusar modia\n",
      "nan\n",
      "\n",
      "tang feifan (; july 23, 1897 - september 30, 1958) was a chinese medical microbiologist best known for culturing the chlamydia trachomatis agent in the yolk sacs of eggs.\n",
      "place of birth Liling\n",
      "nan\n",
      "\n",
      "sid ahmed ghozali () (born 31 march 1937 in maghnia, algeria) is an algerian politician who was head of government of algeria from 1991 to 1992.\n",
      "place of birth ouedjda\n",
      "nan\n",
      "\n",
      "stuart antony alan o'keefe (born 4 march 1991) is an english professional footballer who plays as a central midfielder for  club gillingham.\n",
      "place of birth Eye\n",
      "nan\n",
      "\n",
      "franciscus bernardus maria \"frans\" de waal (born october 29, 1948) is a dutch primatologist and ethologist\n",
      "place of birth 's-Hertogenbosch\n",
      "nan\n",
      "\n",
      "jean rhys,  (; born ella gwendolyn rees williams (24 august 1890 – 14 may 1979), was a mid-20th-century novelist who was born and grew up in the caribbean island of dominica\n",
      "place of birth Roseau\n",
      "nan\n",
      "\n"
     ]
    }
   ],
   "source": [
    "for i in range(len(df_1)):\n",
    "    print(df_1.iloc[i]['sentence'])\n",
    "    print(df_1.iloc[i]['wikidata'])\n",
    "    print(df_1.iloc[i]['label'])\n",
    "    print('')"
   ]
  },
  {
   "cell_type": "markdown",
   "metadata": {},
   "source": [
    "# Proportion of each label"
   ]
  },
  {
   "cell_type": "code",
   "execution_count": 27,
   "metadata": {},
   "outputs": [],
   "source": [
    "m = torch.nn.Softmax(dim=0)\n",
    "labels_prob = []\n",
    "\n",
    "for i in range(len(preds)):\n",
    "    value_list = m(preds[i]).cpu().numpy().tolist()\n",
    "    pred_label = value_list.index(max(value_list))\n",
    "    labels_prob.append(pred_label)"
   ]
  },
  {
   "cell_type": "code",
   "execution_count": 28,
   "metadata": {
    "scrolled": true
   },
   "outputs": [
    {
     "data": {
      "text/html": [
       "<div>\n",
       "<style scoped>\n",
       "    .dataframe tbody tr th:only-of-type {\n",
       "        vertical-align: middle;\n",
       "    }\n",
       "\n",
       "    .dataframe tbody tr th {\n",
       "        vertical-align: top;\n",
       "    }\n",
       "\n",
       "    .dataframe thead th {\n",
       "        text-align: right;\n",
       "    }\n",
       "</style>\n",
       "<table border=\"1\" class=\"dataframe\">\n",
       "  <thead>\n",
       "    <tr style=\"text-align: right;\">\n",
       "      <th></th>\n",
       "      <th>sentence</th>\n",
       "      <th>wikidata</th>\n",
       "      <th>label</th>\n",
       "      <th>raw_sentence</th>\n",
       "      <th>0_prob</th>\n",
       "      <th>1_prob</th>\n",
       "      <th>2_prob</th>\n",
       "    </tr>\n",
       "  </thead>\n",
       "  <tbody>\n",
       "    <tr>\n",
       "      <th>0</th>\n",
       "      <td>ludmila manicler (born 6 july 1987) is an arge...</td>\n",
       "      <td>place of birth San Pedro</td>\n",
       "      <td>2</td>\n",
       "      <td>Ludmila Manicler (born 6 July 1987) is an Arge...</td>\n",
       "      <td>0.004904</td>\n",
       "      <td>0.002424</td>\n",
       "      <td>0.992672</td>\n",
       "    </tr>\n",
       "    <tr>\n",
       "      <th>1</th>\n",
       "      <td>she is a former member of the argentina women'...</td>\n",
       "      <td>place of birth San Pedro</td>\n",
       "      <td>2</td>\n",
       "      <td>She is a former member of the Argentina women'...</td>\n",
       "      <td>0.004797</td>\n",
       "      <td>0.004729</td>\n",
       "      <td>0.990474</td>\n",
       "    </tr>\n",
       "    <tr>\n",
       "      <th>2</th>\n",
       "      <td>li ge (born 12 april 1969) is a chinese former...</td>\n",
       "      <td>place of birth Zigong</td>\n",
       "      <td>2</td>\n",
       "      <td>Li Ge (born 12 April 1969) is a Chinese former...</td>\n",
       "      <td>0.177534</td>\n",
       "      <td>0.016512</td>\n",
       "      <td>0.805954</td>\n",
       "    </tr>\n",
       "    <tr>\n",
       "      <th>3</th>\n",
       "      <td>kazuhiro \"daimajin\"  sasaki (佐々木 主浩 sasaki kaz...</td>\n",
       "      <td>place of birth Sendai</td>\n",
       "      <td>0</td>\n",
       "      <td>Kazuhiro \"Daimajin\"  Sasaki (佐々木 主浩 Sasaki Kaz...</td>\n",
       "      <td>0.973907</td>\n",
       "      <td>0.007905</td>\n",
       "      <td>0.018188</td>\n",
       "    </tr>\n",
       "    <tr>\n",
       "      <th>4</th>\n",
       "      <td>he played his entire npb career with the yokoh...</td>\n",
       "      <td>place of birth Sendai</td>\n",
       "      <td>2</td>\n",
       "      <td>He played his entire NPB career with the Yokoh...</td>\n",
       "      <td>0.002745</td>\n",
       "      <td>0.002493</td>\n",
       "      <td>0.994762</td>\n",
       "    </tr>\n",
       "    <tr>\n",
       "      <th>...</th>\n",
       "      <td>...</td>\n",
       "      <td>...</td>\n",
       "      <td>...</td>\n",
       "      <td>...</td>\n",
       "      <td>...</td>\n",
       "      <td>...</td>\n",
       "      <td>...</td>\n",
       "    </tr>\n",
       "    <tr>\n",
       "      <th>134977</th>\n",
       "      <td>he served as chairman of the board, chairman, ...</td>\n",
       "      <td>place of birth Cardiff</td>\n",
       "      <td>2</td>\n",
       "      <td>He served as chairman of the board, chairman, ...</td>\n",
       "      <td>0.002701</td>\n",
       "      <td>0.002249</td>\n",
       "      <td>0.995050</td>\n",
       "    </tr>\n",
       "    <tr>\n",
       "      <th>134978</th>\n",
       "      <td>levon isayevich mirzoyan (; ) (november 14, 18...</td>\n",
       "      <td>place of birth Shusha</td>\n",
       "      <td>2</td>\n",
       "      <td>Levon Isayevich Mirzoyan (; ) (November 14, 18...</td>\n",
       "      <td>0.008293</td>\n",
       "      <td>0.005563</td>\n",
       "      <td>0.986145</td>\n",
       "    </tr>\n",
       "    <tr>\n",
       "      <th>134979</th>\n",
       "      <td>he was executed during the great purge.</td>\n",
       "      <td>place of birth Shusha</td>\n",
       "      <td>2</td>\n",
       "      <td>He was executed during the Great Purge.</td>\n",
       "      <td>0.002800</td>\n",
       "      <td>0.002944</td>\n",
       "      <td>0.994256</td>\n",
       "    </tr>\n",
       "    <tr>\n",
       "      <th>134980</th>\n",
       "      <td>benjamin brian colin parker (born 8 november 1...</td>\n",
       "      <td>place of birth Pontefract</td>\n",
       "      <td>2</td>\n",
       "      <td>Benjamin Brian Colin Parker (born 8 November 1...</td>\n",
       "      <td>0.028257</td>\n",
       "      <td>0.005223</td>\n",
       "      <td>0.966519</td>\n",
       "    </tr>\n",
       "    <tr>\n",
       "      <th>134981</th>\n",
       "      <td>he is primarily a left-back, though can also p...</td>\n",
       "      <td>place of birth Pontefract</td>\n",
       "      <td>2</td>\n",
       "      <td>He is primarily a left-back, though can also p...</td>\n",
       "      <td>0.004982</td>\n",
       "      <td>0.006088</td>\n",
       "      <td>0.988930</td>\n",
       "    </tr>\n",
       "  </tbody>\n",
       "</table>\n",
       "<p>134236 rows × 7 columns</p>\n",
       "</div>"
      ],
      "text/plain": [
       "                                                 sentence  \\\n",
       "0       ludmila manicler (born 6 july 1987) is an arge...   \n",
       "1       she is a former member of the argentina women'...   \n",
       "2       li ge (born 12 april 1969) is a chinese former...   \n",
       "3       kazuhiro \"daimajin\"  sasaki (佐々木 主浩 sasaki kaz...   \n",
       "4       he played his entire npb career with the yokoh...   \n",
       "...                                                   ...   \n",
       "134977  he served as chairman of the board, chairman, ...   \n",
       "134978  levon isayevich mirzoyan (; ) (november 14, 18...   \n",
       "134979            he was executed during the great purge.   \n",
       "134980  benjamin brian colin parker (born 8 november 1...   \n",
       "134981  he is primarily a left-back, though can also p...   \n",
       "\n",
       "                         wikidata  label  \\\n",
       "0        place of birth San Pedro      2   \n",
       "1        place of birth San Pedro      2   \n",
       "2           place of birth Zigong      2   \n",
       "3           place of birth Sendai      0   \n",
       "4           place of birth Sendai      2   \n",
       "...                           ...    ...   \n",
       "134977     place of birth Cardiff      2   \n",
       "134978      place of birth Shusha      2   \n",
       "134979      place of birth Shusha      2   \n",
       "134980  place of birth Pontefract      2   \n",
       "134981  place of birth Pontefract      2   \n",
       "\n",
       "                                             raw_sentence    0_prob    1_prob  \\\n",
       "0       Ludmila Manicler (born 6 July 1987) is an Arge...  0.004904  0.002424   \n",
       "1       She is a former member of the Argentina women'...  0.004797  0.004729   \n",
       "2       Li Ge (born 12 April 1969) is a Chinese former...  0.177534  0.016512   \n",
       "3       Kazuhiro \"Daimajin\"  Sasaki (佐々木 主浩 Sasaki Kaz...  0.973907  0.007905   \n",
       "4       He played his entire NPB career with the Yokoh...  0.002745  0.002493   \n",
       "...                                                   ...       ...       ...   \n",
       "134977  He served as chairman of the board, chairman, ...  0.002701  0.002249   \n",
       "134978  Levon Isayevich Mirzoyan (; ) (November 14, 18...  0.008293  0.005563   \n",
       "134979            He was executed during the Great Purge.  0.002800  0.002944   \n",
       "134980  Benjamin Brian Colin Parker (born 8 November 1...  0.028257  0.005223   \n",
       "134981  He is primarily a left-back, though can also p...  0.004982  0.006088   \n",
       "\n",
       "          2_prob  \n",
       "0       0.992672  \n",
       "1       0.990474  \n",
       "2       0.805954  \n",
       "3       0.018188  \n",
       "4       0.994762  \n",
       "...          ...  \n",
       "134977  0.995050  \n",
       "134978  0.986145  \n",
       "134979  0.994256  \n",
       "134980  0.966519  \n",
       "134981  0.988930  \n",
       "\n",
       "[134236 rows x 7 columns]"
      ]
     },
     "execution_count": 28,
     "metadata": {},
     "output_type": "execute_result"
    }
   ],
   "source": [
    "df['label'] = labels_prob\n",
    "df"
   ]
  },
  {
   "cell_type": "code",
   "execution_count": 29,
   "metadata": {},
   "outputs": [
    {
     "data": {
      "text/plain": [
       "2    109338\n",
       "0     24869\n",
       "1        29\n",
       "Name: label, dtype: int64"
      ]
     },
     "execution_count": 29,
     "metadata": {},
     "output_type": "execute_result"
    }
   ],
   "source": [
    "df['label'].value_counts()"
   ]
  },
  {
   "cell_type": "markdown",
   "metadata": {},
   "source": [
    "#   "
   ]
  },
  {
   "cell_type": "code",
   "execution_count": 30,
   "metadata": {},
   "outputs": [],
   "source": [
    "df_0 = df.sort_values(by=['0_prob'], ascending=False)"
   ]
  },
  {
   "cell_type": "code",
   "execution_count": 31,
   "metadata": {
    "scrolled": false
   },
   "outputs": [
    {
     "name": "stdout",
     "output_type": "stream",
     "text": [
      "he was born in blue island, illinois, raised in tinley park, illinois, graduated in the class of 1962 from bremen high school (midlothian, illinois) in midlothian, illinois  and at the time of his death resided in monrovia, indiana.\n",
      "place of birth Tinley Park\n",
      "0.9895918965339661\n",
      " \n",
      " \n",
      "dong yu (chinese: 董宇; born 15 july 1994 in qingdao) is a chinese footballer who plays for hangzhou greentown in the china league one.\n",
      "place of birth Qingdao\n",
      "0.9882164597511292\n",
      " \n",
      " \n",
      "elisabeth clara heath-sladen (1 february 1946sladen was born in 1946, though this was often erroneously reported as 1948.\n",
      "place of birth Liverpool\n",
      "0.9876894950866699\n",
      " \n",
      " \n",
      "fløgstad was born in the industrial city of sauda in ryfylke, rogaland\n",
      "place of birth Sauda\n",
      "0.9875656962394714\n",
      " \n",
      " \n",
      "he was born 10 december 1934 at yunlin county in taiwan, and graduated from national taiwan normal university in 1958 with a degree in english\n",
      "place of birth Beigang, Yunlin\n",
      "0.9872835874557495\n",
      " \n",
      " \n",
      "he was born in yilan, taiwan.lan cheng-lung at douban.comlan cheng-lung at chinesemov.com\n",
      "place of birth Luodong\n",
      "0.9872397780418396\n",
      " \n",
      " \n",
      "1786 – 11 march 1870) was born at menkhoaneng in the northern part of present-day lesotho\n",
      "place of birth Lesotho\n",
      "0.987204909324646\n",
      " \n",
      " \n",
      "edward ou () was born on 16 october 1980 in taiwan\n",
      "place of birth Taiwan\n",
      "0.98715740442276\n",
      " \n",
      " \n",
      "frank johnson goodnow (january 18, 1859 – november 15, 1939) was an american educator and legal scholar, born in brooklyn, new york.\n",
      "place of birth Brooklyn\n",
      "0.987101674079895\n",
      " \n",
      " \n",
      "samir brahimi is an algerian boxer born on 17 may 1990 in algiers\n",
      "place of birth Algiers\n",
      "0.9870887398719788\n",
      " \n",
      " \n",
      " he was born in changzhou, jiangsu\n",
      "place of birth Changzhou\n",
      "0.9870293140411377\n",
      " \n",
      " \n",
      "chang was born in chongqing in 1944 and grew up in taiwan\n",
      "place of birth Chongqing\n",
      "0.9870189428329468\n",
      " \n",
      " \n",
      "she was born in the shanxi province to parents li rui and jiang yun, who are both writers\n",
      "place of birth Taiyuan\n",
      "0.9869154691696167\n",
      " \n",
      " \n",
      "he was born in 1899 in ichikawa, chiba prefecture\n",
      "place of birth Chiba Prefecture\n",
      "0.9869036674499512\n",
      " \n",
      " \n",
      "vian was born in rome\n",
      "place of birth Rome\n",
      "0.9867929220199585\n",
      " \n",
      " \n",
      "barbara mittler (born 15 february 1968 in hagen, west germany) is a german sinologist\n",
      "place of birth Hagen\n",
      "0.9867762923240662\n",
      " \n",
      " \n",
      " is a japanese anime director, born on october 10, 1955 in chiba prefecture\n",
      "place of birth Chiba Prefecture\n",
      "0.9867016673088074\n",
      " \n",
      " \n",
      "born in sarawak, chua moved to kuala lumpur to join the bam squad in 1995\n",
      "place of birth Kuching\n",
      "0.9865908622741699\n",
      " \n",
      " \n",
      "he was born in xiaoyi, shanxi\n",
      "place of birth Xiaoyi\n",
      "0.986555814743042\n",
      " \n",
      " \n",
      "levieva was born in st\n",
      "place of birth Saint Petersburg\n",
      "0.9864822626113892\n",
      " \n",
      " \n"
     ]
    }
   ],
   "source": [
    "for i in range(20):\n",
    "    print(df_0.iloc[i]['sentence'])\n",
    "    print(df_0.iloc[i]['wikidata'])\n",
    "    print(df_0.iloc[i]['0_prob'])\n",
    "    print(' ')\n",
    "    print(' ')"
   ]
  }
 ],
 "metadata": {
  "kernelspec": {
   "display_name": "Python 3",
   "language": "python",
   "name": "python3"
  },
  "language_info": {
   "codemirror_mode": {
    "name": "ipython",
    "version": 3
   },
   "file_extension": ".py",
   "mimetype": "text/x-python",
   "name": "python",
   "nbconvert_exporter": "python",
   "pygments_lexer": "ipython3",
   "version": "3.7.1"
  }
 },
 "nbformat": 4,
 "nbformat_minor": 4
}
