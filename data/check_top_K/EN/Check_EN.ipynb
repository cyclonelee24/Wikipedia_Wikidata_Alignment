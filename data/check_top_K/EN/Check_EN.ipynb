{
 "cells": [
  {
   "cell_type": "markdown",
   "id": "exceptional-switch",
   "metadata": {},
   "source": [
    "# Imports"
   ]
  },
  {
   "cell_type": "code",
   "execution_count": 1,
   "id": "south-kentucky",
   "metadata": {},
   "outputs": [],
   "source": [
    "import pandas as pd\n",
    "import numpy as np"
   ]
  },
  {
   "cell_type": "markdown",
   "id": "moved-teaching",
   "metadata": {},
   "source": [
    "# Load Data"
   ]
  },
  {
   "cell_type": "code",
   "execution_count": 2,
   "id": "signal-trout",
   "metadata": {},
   "outputs": [],
   "source": [
    "df = pd.read_csv('EN_result.csv')"
   ]
  },
  {
   "cell_type": "code",
   "execution_count": 3,
   "id": "dried-audit",
   "metadata": {},
   "outputs": [
    {
     "name": "stdout",
     "output_type": "stream",
     "text": [
      "(159902, 6)\n"
     ]
    }
   ],
   "source": [
    "print(df.shape)"
   ]
  },
  {
   "cell_type": "code",
   "execution_count": 4,
   "id": "helpful-cleveland",
   "metadata": {},
   "outputs": [
    {
     "data": {
      "text/html": [
       "<div>\n",
       "<style scoped>\n",
       "    .dataframe tbody tr th:only-of-type {\n",
       "        vertical-align: middle;\n",
       "    }\n",
       "\n",
       "    .dataframe tbody tr th {\n",
       "        vertical-align: top;\n",
       "    }\n",
       "\n",
       "    .dataframe thead th {\n",
       "        text-align: right;\n",
       "    }\n",
       "</style>\n",
       "<table border=\"1\" class=\"dataframe\">\n",
       "  <thead>\n",
       "    <tr style=\"text-align: right;\">\n",
       "      <th></th>\n",
       "      <th>sentence</th>\n",
       "      <th>wikidata</th>\n",
       "      <th>label</th>\n",
       "      <th>0_prob</th>\n",
       "      <th>1_prob</th>\n",
       "      <th>2_prob</th>\n",
       "    </tr>\n",
       "  </thead>\n",
       "  <tbody>\n",
       "    <tr>\n",
       "      <th>0</th>\n",
       "      <td>ludmila manicler born 6 july 1987 is an argent...</td>\n",
       "      <td>place of birth San Pedro</td>\n",
       "      <td>NaN</td>\n",
       "      <td>0.935978</td>\n",
       "      <td>0.010244</td>\n",
       "      <td>0.053778</td>\n",
       "    </tr>\n",
       "    <tr>\n",
       "      <th>1</th>\n",
       "      <td>she is a former member of the argentina women'...</td>\n",
       "      <td>place of birth San Pedro</td>\n",
       "      <td>NaN</td>\n",
       "      <td>0.001750</td>\n",
       "      <td>0.001039</td>\n",
       "      <td>0.997211</td>\n",
       "    </tr>\n",
       "    <tr>\n",
       "      <th>2</th>\n",
       "      <td>li ge born 12 april 1969 is a chinese former g...</td>\n",
       "      <td>place of birth Zigong</td>\n",
       "      <td>NaN</td>\n",
       "      <td>0.920235</td>\n",
       "      <td>0.011331</td>\n",
       "      <td>0.068435</td>\n",
       "    </tr>\n",
       "    <tr>\n",
       "      <th>3</th>\n",
       "      <td>kazuhiro \"daimajin\" sasaki 佐々木 主浩 sasaki kazuh...</td>\n",
       "      <td>place of birth Sendai</td>\n",
       "      <td>NaN</td>\n",
       "      <td>0.962115</td>\n",
       "      <td>0.007489</td>\n",
       "      <td>0.030396</td>\n",
       "    </tr>\n",
       "    <tr>\n",
       "      <th>4</th>\n",
       "      <td>he played his entire npb career with the yokoh...</td>\n",
       "      <td>place of birth Sendai</td>\n",
       "      <td>NaN</td>\n",
       "      <td>0.001486</td>\n",
       "      <td>0.000678</td>\n",
       "      <td>0.997835</td>\n",
       "    </tr>\n",
       "  </tbody>\n",
       "</table>\n",
       "</div>"
      ],
      "text/plain": [
       "                                            sentence  \\\n",
       "0  ludmila manicler born 6 july 1987 is an argent...   \n",
       "1  she is a former member of the argentina women'...   \n",
       "2  li ge born 12 april 1969 is a chinese former g...   \n",
       "3  kazuhiro \"daimajin\" sasaki 佐々木 主浩 sasaki kazuh...   \n",
       "4  he played his entire npb career with the yokoh...   \n",
       "\n",
       "                   wikidata  label    0_prob    1_prob    2_prob  \n",
       "0  place of birth San Pedro    NaN  0.935978  0.010244  0.053778  \n",
       "1  place of birth San Pedro    NaN  0.001750  0.001039  0.997211  \n",
       "2     place of birth Zigong    NaN  0.920235  0.011331  0.068435  \n",
       "3     place of birth Sendai    NaN  0.962115  0.007489  0.030396  \n",
       "4     place of birth Sendai    NaN  0.001486  0.000678  0.997835  "
      ]
     },
     "execution_count": 4,
     "metadata": {},
     "output_type": "execute_result"
    }
   ],
   "source": [
    "df.head()"
   ]
  },
  {
   "cell_type": "markdown",
   "id": "cellular-jewel",
   "metadata": {},
   "source": [
    "# "
   ]
  },
  {
   "cell_type": "code",
   "execution_count": 5,
   "id": "amateur-owner",
   "metadata": {},
   "outputs": [],
   "source": [
    "df_EN_prob = df[['0_prob', '1_prob', '2_prob']].to_numpy()"
   ]
  },
  {
   "cell_type": "code",
   "execution_count": 6,
   "id": "affiliated-profit",
   "metadata": {},
   "outputs": [],
   "source": [
    "pred_EN = np.argmax(df_EN_prob, axis=1)"
   ]
  },
  {
   "cell_type": "code",
   "execution_count": 7,
   "id": "composed-expert",
   "metadata": {},
   "outputs": [
    {
     "name": "stdout",
     "output_type": "stream",
     "text": [
      "Frequency of label of EN:\n",
      "[[     0      1      2]\n",
      " [ 52341    421 107140]]\n"
     ]
    }
   ],
   "source": [
    "labels_EN, counts_EN = np.unique(pred_EN, return_counts=True)\n",
    "print(\"Frequency of label of EN:\")\n",
    "print(np.asarray((labels_EN, counts_EN)))"
   ]
  },
  {
   "cell_type": "markdown",
   "id": "extensive-anxiety",
   "metadata": {},
   "source": [
    "# Check Top K"
   ]
  },
  {
   "cell_type": "markdown",
   "id": "affiliated-lloyd",
   "metadata": {},
   "source": [
    "<pre>\n",
    "- Truly inconsistent  (label: A)\n",
    "- Granularity problem (label: B)\n",
    "- False inconsistent  (label: C)\n",
    "</pre>"
   ]
  },
  {
   "cell_type": "code",
   "execution_count": 8,
   "id": "quick-arena",
   "metadata": {
    "scrolled": true
   },
   "outputs": [],
   "source": [
    "df_top_50 = df.sort_values(by='1_prob', axis=0, ascending=False)[:50]\n",
    "df_top_50.reset_index(drop=True, inplace=True)"
   ]
  },
  {
   "cell_type": "code",
   "execution_count": 9,
   "id": "casual-economy",
   "metadata": {
    "scrolled": false
   },
   "outputs": [
    {
     "name": "stdout",
     "output_type": "stream",
     "text": [
      "he competed at the 2012 summer olympics in the -105 kg event\n",
      "place of birth ouedjda\n",
      "input： C\n",
      "\n",
      "ahmed ben bella was born in maghnia, in the former department of oran, western algeria,lyes laribi , l'algérie des généraux, max milo, 2007, p.11 on 25 december 1916,shown as 1916 in some sources, but his father changed his year of birth from 1916 to enable him to leave school early and help him on his farm during the height of the french colonial period\n",
      "place of birth ouedjda\n",
      "input： A\n",
      "\n",
      "sid ahmed ghozali born 31 march 1937 in maghnia, algeria is an algerian politician who was head of government of algeria from 1991 to 1992\n",
      "place of birth ouedjda\n",
      "input： A\n",
      "\n",
      "gurmeet ram rahim singh insan born 15 august 1967 is a convicted rapist and murderer\n",
      "place of birth Shri gurusar modia\n",
      "input： C\n",
      "\n",
      "walid bidani born 11 june 1994 in maghnia, algeria is an algerian weightlifter\n",
      "place of birth ouedjda\n",
      "input： A\n",
      "\n",
      "he was a member of the national liberation front party and an ally of president houari boumedienne, under whom he served as head of sonatrach from 1966 to 1977, when he became minister of energy and industry\n",
      "place of birth ouedjda\n",
      "input： C\n",
      "\n",
      "hoàng cẩm vân born 31 may 1959 is a vietnamese female singer.dale alan olsen popular music of vietnam the politics of remembering routledge 2008 \"cẩm vân\" pp48, 139-140, 192, 212, 227cẩm vân - khắc triệu 20 năm ấy, biết bao vui buồn she appeared on vietnam idol season 1, and was scheduled to be a judge on cặp đôi hoàn hảo season 1\n",
      "place of birth District 1\n",
      "input： B\n",
      "\n",
      "franciscus bernardus maria \"frans\" de waal born october 29, 1948 is a dutch primatologist and ethologist\n",
      "place of birth 's-Hertogenbosch\n",
      "input： B\n",
      "\n",
      "flávio saretta filho born june 28, 1980 is a former professional tennis player from brazil who turned professional in 1998\n",
      "place of birth Americana\n",
      "input： A\n",
      "\n",
      "xiong xiling, or hsiung hsi-ling simplified chinese 熊希龄; hanyu pinyin xióng xĩ líng; 1870–1937 was a chinese philanthropist and politician, who served as premier of the republic of china from july 1913 to february 1914\n",
      "place of birth fenghuang\n",
      "input： B\n",
      "\n",
      "john david douglas born june 12, 1956 is a retired american professional basketball player who played in the national basketball association nba\n",
      "place of birth Town Creek\n",
      "input： B\n",
      "\n",
      "amguulan 阿穆隆 born august 30, 1984, commonly known as amulong or amu, is a chinese singer and songwriter of mongolian descent\n",
      "place of birth Zhengxiangbai Banner\n",
      "input： B\n",
      "\n",
      "manabu mima , born september 19, 1986 is a japanese professional baseball pitcher for the chiba lotte marines of the nippon professional baseballnpb\n",
      "place of birth Kitasōma District\n",
      "input： B\n",
      "\n",
      "jean-baptiste-camille corot , , ; july 16, 1796his birth certificate initially indicated 27 messidor july 15, but this was corrected to 28 – february 22, 1875 was a french landscape and portrait painter as well as a printmaker in etching\n",
      "place of birth rue du Bac\n",
      "input： B\n",
      "\n",
      "andrew scott bailey born may 31, 1984 is an american former professional baseball pitcher and current pitching coach for the san francisco giants of major league baseball mlb\n",
      "place of birth Voorhees Township\n",
      "input： B\n",
      "\n",
      "gretchen mol born november 8, 1972 is an american actress and former model\n",
      "place of birth Deep River\n",
      "input： B\n",
      "\n",
      "donnie wayne \"don\" johnson born december 15, 1949 is an american actor, producer, director, singer, and songwriter\n",
      "place of birth Flat Creek\n",
      "input： B\n",
      "\n",
      "the right-hander won two career titles in singles, both in 1996 atlanta and palermo, and reached a career-high atp singles ranking of world no\n",
      "place of birth casablanca\n",
      "input： C\n",
      "\n",
      "gary michael \"garrett\" clayton born march 19, 1991 is an american actor and singer\n",
      "place of birth Dearborn\n",
      "input： B\n",
      "\n",
      "beverley marian mclachlin, born september 7, 1943 is a canadian jurist and author who served as the 17th chief justice of canada from 2000 to 2017, the first woman to hold that position and the longest-serving chief justice in canadian history\n",
      "place of birth Pincher Creek\n",
      "input： B\n",
      "\n",
      "harold eliot varmus born december 18, 1939 is an american nobel prize-winning scientist who was director of the national institutes of health from 1993 to 1999 and the 14th director of the national cancer institute from 2010 to 2015, a post to which he was appointed by president barack obama\n",
      "place of birth Oceanside\n",
      "input： B\n",
      "\n",
      "dolly rebecca parton born january 19, 1946 is an american singer, songwriter, multi-instrumentalist, record producer, actress, author, businesswoman, and humanitarian, known primarily for her work in country music\n",
      "place of birth Sevier County\n",
      "input： B\n",
      "\n",
      "lawrence gene david born july 2, 1947 is an american comedian, writer, actor, director, and television producer\n",
      "place of birth Sheepshead Bay\n",
      "input： B\n",
      "\n",
      "ma ning born 14 june 1979 is a chinese football referee\n",
      "place of birth Fuxin\n",
      "input： B\n",
      "\n",
      "12 august 1892 – 27 september 1972 was a mathematician and librarian from india.\"a short biography\"\n",
      "place of birth seerkazhi\n",
      "input： B\n",
      "\n",
      "brian drummond born august 10, 1969 is a canadian voice actor\n",
      "place of birth Salmon Arm\n",
      "input： B\n",
      "\n",
      "jeffrey perry born august 16, 1955 is an american actor of stage, television, and film\n",
      "place of birth Highland Park\n",
      "input： B\n",
      "\n",
      "christopher allen sale born march 30, 1989 is an american professional baseball pitcher for the boston red sox of major league baseball mlb\n",
      "place of birth Lakeland\n",
      "input： B\n",
      "\n",
      "sean michael rooney born november 13, 1982 is an american volleyball player, a member of american national team, a gold medalist of the olympic games 2008 beijing and fivb world league 2008, 2014\n",
      "place of birth Wheaton\n",
      "input： B\n",
      "\n",
      "hope amelia solo born july 30, 1981 is an american former soccer goalkeeper\n",
      "place of birth Richland\n",
      "input： B\n",
      "\n",
      "cheryl ann oteri born september 19, 1962 is an american actress and comedian who was a regular cast member on saturday night live from 1995 to 2000\n",
      "place of birth Upper Darby Township\n",
      "input： B\n",
      "\n",
      "bryan fuller born july 27, 1969 is an american television writer and producer who has created a number of television series, including dead like me, wonderfalls, pushing daisies, hannibal, and american gods\n",
      "place of birth Lewiston\n",
      "input： B\n",
      "\n",
      "kristian ipsen born october 20, 1992 is an american diver, who has been diving competitively since 1998\n",
      "place of birth Walnut Creek\n",
      "input： B\n",
      "\n",
      "melissa ivy rauch born june 23, 1980 is an american actress\n",
      "place of birth Marlboro Township\n",
      "input： B\n",
      "\n",
      "tauheed epps born september 12, 1977, known professionally as 2 chainz formerly tity boi, is an american rapper, songwriter, media personality, and basketball player\n",
      "place of birth College Park\n",
      "input： B\n",
      "\n",
      "brittani kline born may 19, 1991 is an american fashion model best known as the winner of cycle 16 of america's next top model\n",
      "place of birth Beech Creek\n",
      "input： B\n",
      "\n",
      "jeremy d evans born october 24, 1987 is an american professional basketball player for khimki of the vtb united league and the euroleague\n",
      "place of birth Crossett\n",
      "input： B\n",
      "\n",
      "selena piek born 30 september 1991 is a dutch badminton player who specializes in doubles\n",
      "place of birth Blaricum\n",
      "input： B\n",
      "\n",
      "simon sandberg born 25 march 1994 is a swedish footballer who plays as a right back for hammarby if in allsvenskan\n",
      "place of birth Partille\n",
      "input： B\n",
      "\n",
      "li ganjie ; born november 1964 is a chinese politician and the minister of ecology and environment previously as the minister of environmental protection since 2017\n",
      "place of birth Wangcheng District\n",
      "input： B\n",
      "\n",
      "justin james speier born november 6, 1973 is an american former professional baseball pitcher in major league baseball\n",
      "place of birth Walnut Creek\n",
      "input： B\n",
      "\n",
      "todd harry rundgren born june 22, 1948 is an american multi-instrumentalist, singer, songwriter, and record producer who has performed a diverse range of styles as a solo artist and as a member of the band utopia\n",
      "place of birth Upper Darby Township\n",
      "input： B\n",
      "\n",
      "nathan jonas \"joey\" jordison born april 26, 1975, is an american musician, songwriter, record producer and multi-instrumentalist, best known for his work as the former drummer and co-songwriter for the american heavy metal band slipknot as well as guitarist in the american horror punk band murderdolls\n",
      "place of birth Des Moines\n",
      "input： B\n",
      "\n",
      "pablo tell schreiber born april 26, 1978 is a canadian-american actor, known for his dramatic stage work and for his portrayal of nick sobotka on the wire, mad sweeney on the tv adaptation of american gods, and for his role of george \"pornstache\" mendez on orange is the new black, for which he received a primetime emmy nomination for outstanding guest actor in a drama series\n",
      "place of birth Regional District of Central Kootenay\n"
     ]
    },
    {
     "name": "stdout",
     "output_type": "stream",
     "text": [
      "input： B\n",
      "\n",
      "jeffrey clark wadlow born march 2, 1976 is an american film director, screenwriter, and producer\n",
      "place of birth Arlington County\n",
      "input： B\n",
      "\n",
      "paul stephen rudd born april 6, 1969 is an american actor, comedian, and filmmaker\n",
      "place of birth Passaic\n",
      "input： B\n",
      "\n",
      "dean lawrence kamen born april 5, 1951 is an american engineer, inventor, and businessman\n",
      "place of birth Long Island\n",
      "input： B\n",
      "\n",
      "michael okerlund leavitt born february 11, 1951 is an american politician who served as the 14th governor of utah from 1993 to 2003 in the republican party, as administrator of the environmental protection agency from 2003 to 2005 and as secretary of health and human services from 2005 to 2009\n",
      "place of birth Cedar City\n",
      "input： B\n",
      "\n",
      "born in england, hoban has represented the republic of ireland at youth international level\n",
      "place of birth Walthamstow\n",
      "input： B\n",
      "\n",
      "kirsten caroline dunst ; born april 30, 1982 is an american actress\n",
      "place of birth Point Pleasant\n",
      "input： B\n",
      "\n"
     ]
    }
   ],
   "source": [
    "# new_column_list = []\n",
    "\n",
    "# for i in range(len(df_top_50)):\n",
    "#     print(df_top_50.iloc[i]['sentence'])\n",
    "#     print(df_top_50.iloc[i]['wikidata'])\n",
    "#     temp_label = input('input： ')\n",
    "#     print('')\n",
    "#     new_column_list.append(temp_label)\n",
    "    \n",
    "# df_top_50['new_label'] = new_column_list\n",
    "\n",
    "# most of label C is cause by the difference of translations"
   ]
  },
  {
   "cell_type": "code",
   "execution_count": 10,
   "id": "stylish-consensus",
   "metadata": {},
   "outputs": [],
   "source": [
    "# df_top_50.to_csv('EN_1_top50.csv')"
   ]
  },
  {
   "cell_type": "code",
   "execution_count": 27,
   "id": "normal-wisdom",
   "metadata": {},
   "outputs": [],
   "source": [
    "df_top_50 = pd.read_csv('EN_1_top50.csv', index_col='Unnamed: 0')\n",
    "df_top_50_A = df_top_50[df_top_50['new_label'] == 'A']\n",
    "df_top_50_B = df_top_50[df_top_50['new_label'] == 'B']\n",
    "df_top_50_C = df_top_50[df_top_50['new_label'] == 'C']"
   ]
  },
  {
   "cell_type": "code",
   "execution_count": 28,
   "id": "printable-kernel",
   "metadata": {},
   "outputs": [
    {
     "name": "stdout",
     "output_type": "stream",
     "text": [
      "Number of label A : 3\n",
      "Number of label B : 43\n",
      "Number of label C : 4\n"
     ]
    }
   ],
   "source": [
    "print('Number of label A : ' + str(len(df_top_50_A)))\n",
    "print('Number of label B : ' + str(len(df_top_50_B)))\n",
    "print('Number of label C : ' + str(len(df_top_50_C)))"
   ]
  },
  {
   "cell_type": "code",
   "execution_count": 29,
   "id": "subsequent-fifty",
   "metadata": {},
   "outputs": [
    {
     "name": "stdout",
     "output_type": "stream",
     "text": [
      "ahmed ben bella was born in maghnia, in the former department of oran, western algeria,lyes laribi , l'algérie des généraux, max milo, 2007, p.11 on 25 december 1916,shown as 1916 in some sources, but his father changed his year of birth from 1916 to enable him to leave school early and help him on his farm during the height of the french colonial period\n",
      "place of birth ouedjda\n",
      "\n",
      "sid ahmed ghozali born 31 march 1937 in maghnia, algeria is an algerian politician who was head of government of algeria from 1991 to 1992\n",
      "place of birth ouedjda\n",
      "\n",
      "walid bidani born 11 june 1994 in maghnia, algeria is an algerian weightlifter\n",
      "place of birth ouedjda\n",
      "\n"
     ]
    }
   ],
   "source": [
    "# Check label A (Truly inconsistent)\n",
    "for i in range(len(df_top_50_A)):\n",
    "    print(df_top_50_A.iloc[i]['sentence'])\n",
    "    print(df_top_50_A.iloc[i]['wikidata'])\n",
    "    print('')"
   ]
  },
  {
   "cell_type": "code",
   "execution_count": 30,
   "id": "confirmed-potter",
   "metadata": {},
   "outputs": [
    {
     "name": "stdout",
     "output_type": "stream",
     "text": [
      "he competed at the 2012 summer olympics in the -105 kg event\n",
      "place of birth ouedjda\n",
      "\n",
      "gurmeet ram rahim singh insan born 15 august 1967 is a convicted rapist and murderer\n",
      "place of birth Shri gurusar modia\n",
      "\n",
      "he was a member of the national liberation front party and an ally of president houari boumedienne, under whom he served as head of sonatrach from 1966 to 1977, when he became minister of energy and industry\n",
      "place of birth ouedjda\n",
      "\n",
      "the right-hander won two career titles in singles, both in 1996 atlanta and palermo, and reached a career-high atp singles ranking of world no\n",
      "place of birth casablanca\n",
      "\n"
     ]
    }
   ],
   "source": [
    "# Check label C (False inconsistent)\n",
    "for i in range(len(df_top_50_C)):\n",
    "    print(df_top_50_C.iloc[i]['sentence'])\n",
    "    print(df_top_50_C.iloc[i]['wikidata'])\n",
    "    print('')"
   ]
  }
 ],
 "metadata": {
  "kernelspec": {
   "display_name": "Python 3",
   "language": "python",
   "name": "python3"
  },
  "language_info": {
   "codemirror_mode": {
    "name": "ipython",
    "version": 3
   },
   "file_extension": ".py",
   "mimetype": "text/x-python",
   "name": "python",
   "nbconvert_exporter": "python",
   "pygments_lexer": "ipython3",
   "version": "3.7.1"
  }
 },
 "nbformat": 4,
 "nbformat_minor": 5
}
